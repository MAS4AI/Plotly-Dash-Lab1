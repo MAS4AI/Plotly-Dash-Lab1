{
 "cells": [
  {
   "attachments": {},
   "cell_type": "markdown",
   "metadata": {},
   "source": [
    "# Q0: import dash standard libraries"
   ]
  },
  {
   "cell_type": "code",
   "execution_count": null,
   "metadata": {},
   "outputs": [],
   "source": [
    "!pip install dash\n",
    "!pip install jupyter_dash\n"
   ]
  },
  {
   "attachments": {},
   "cell_type": "markdown",
   "metadata": {},
   "source": [
    "# Q1: Make dash that prints \"Data Science\""
   ]
  },
  {
   "cell_type": "code",
   "execution_count": null,
   "metadata": {},
   "outputs": [],
   "source": [
    "from dash import Dash, dcc, html, Input, Output\n",
    "from jupyter_dash import JupyterDash"
   ]
  },
  {
   "cell_type": "code",
   "execution_count": null,
   "metadata": {},
   "outputs": [],
   "source": [
    "# note testing on style \n",
    "from jupyter_dash import JupyterDash\n",
    "import dash\n",
    "import dash_html_components as html\n",
    "import dash_core_components as dcc\n",
    "\n",
    "app = JupyterDash(__name__)\n",
    "app.css.config.serve_locally = True\n",
    "app.scripts.config.serve_locally = True\n",
    "\n",
    "app.layout = html.Div(\n",
    "    style={\n",
    "        'backgroundColor': '#f4f4f4',  # Set background color\n",
    "        'padding': '20px',  # Add padding\n",
    "        'textAlign': 'center'  # Center  content\n",
    "    },\n",
    "    children=[\n",
    "        html.H1(\n",
    "            children='Data Science',\n",
    "            style={\n",
    "                'color': '#333333',  # Set text color\n",
    "                'fontSize': '36px',  # Set font size\n",
    "                'marginBottom': '20px'  # Add margin bottom\n",
    "            }\n",
    "        ),\n",
    "    ]\n",
    ")\n",
    "\n",
    "if __name__ == '__main__':\n",
    "    app.run_server(mode='inline')\n"
   ]
  },
  {
   "attachments": {},
   "cell_type": "markdown",
   "metadata": {},
   "source": [
    "# Q2: Make dash that takes name input and outpt \"Welcome to Data Science dashboard {name}\""
   ]
  },
  {
   "cell_type": "code",
   "execution_count": null,
   "metadata": {},
   "outputs": [],
   "source": [
    "# note testing on style \n",
    "from jupyter_dash import JupyterDash\n",
    "import dash\n",
    "import dash_html_components as html\n",
    "import dash_core_components as dcc\n",
    "\n",
    "app = JupyterDash(__name__)\n",
    "app.css.config.serve_locally = True\n",
    "app.scripts.config.serve_locally = True\n",
    "\n",
    "app.layout = html.Div(\n",
    "    style={\n",
    "        'backgroundColor': '#f4f4f4',  # Set background color\n",
    "        'padding': '20px',  # Add padding\n",
    "        'textAlign': 'center'  # Center content\n",
    "    },\n",
    "    children=[\n",
    "        html.H6(\n",
    "            children='Write your name!',\n",
    "            style={\n",
    "                'color': '#333333',  # Set text color\n",
    "                'fontSize': '24px'  # Set font size\n",
    "\n",
    "            }\n",
    "        ),\n",
    "        html.Div(\n",
    "            style={\n",
    "                'display': 'flex',\n",
    "                'justifyContent': 'center'\n",
    "            },\n",
    "            children=[\n",
    "                \"Input: \",\n",
    "                dcc.Input(\n",
    "                    id='my-input',\n",
    "                    value='',\n",
    "                    type='text',\n",
    "                    style={\n",
    "                        'marginLeft': '5px'  # Add margin left\n",
    "                    }\n",
    "                )\n",
    "            ]\n",
    "        ),\n",
    "        html.Br(),\n",
    "        html.Div(\n",
    "            id='my-output',\n",
    "            style={\n",
    "                'fontSize': '18px',  # Set font size\n",
    "                'marginTop': '10px'  # Add margin top\n",
    "            }\n",
    "        ),\n",
    "    ]\n",
    ")\n",
    "\n",
    "\n",
    "@app.callback(\n",
    "    dash.dependencies.Output('my-output', 'children'),\n",
    "    dash.dependencies.Input('my-input', 'value')\n",
    ")\n",
    "def update_output_div(input_value):\n",
    "    return f'Welcome to Data Science dashboard: {input_value}'\n",
    "\n",
    "\n",
    "if __name__ == '__main__':\n",
    "    app.run_server(mode='inline')\n"
   ]
  },
  {
   "attachments": {},
   "cell_type": "markdown",
   "metadata": {},
   "source": [
    "# Q3: Make Plotly-Dash that takes two inputs (numbers) and output 3 numbers x, y , z= x+y\n",
    "- hint: use html.Div, dcc.Input(type='number')"
   ]
  },
  {
   "cell_type": "code",
   "execution_count": null,
   "metadata": {},
   "outputs": [],
   "source": [
    "#in the future will have style :)\n",
    "from jupyter_dash import JupyterDash\n",
    "\n",
    "app = JupyterDash(__name__)\n",
    "\n",
    "app.layout = html.Div([\n",
    "\n",
    "    html.H6(\"Write your first number!\"),\n",
    "    html.Div([\n",
    "        \"Input: \",\n",
    "        dcc.Input(id='my-input', value='', type='number')\n",
    "    ]),\n",
    "    html.H6(\"Write your second number!\"),\n",
    "    html.Div(\n",
    "        [\n",
    "        \"Input: \",\n",
    "        dcc.Input(id='my-input1', value='', type='number')\n",
    "    ]),    \n",
    "    html.Br(),\n",
    "    html.Div(id='my-output'),\n",
    "\n",
    "])\n",
    "\n",
    "\n",
    "@app.callback(\n",
    "    Output('my-output', 'children'),\n",
    "    Input('my-input', 'value'),\n",
    "    Input('my-input1', 'value')\n",
    "\n",
    ")\n",
    "def update_output_div(input_value,input_value1):\n",
    "    return input_value+input_value1\n",
    "\n",
    "\n",
    "if __name__ == '__main__':\n",
    "    app.run_server(mode='inline')"
   ]
  },
  {
   "attachments": {},
   "cell_type": "markdown",
   "metadata": {},
   "source": [
    "# Q4.1: Make JubyterDash with Rangeslider from 1-15 with 6 option"
   ]
  },
  {
   "cell_type": "code",
   "execution_count": null,
   "metadata": {},
   "outputs": [],
   "source": [
    "from dash import Dash, dcc, html, Input, Output\n",
    "import plotly.graph_objects as go\n",
    "import numpy as np\n",
    "from jupyter_dash import JupyterDash\n",
    "\n",
    "\n",
    "app = JupyterDash(__name__) \n",
    "# app = Dash(__name__)\n",
    "\n",
    "\n",
    "app.layout = html.Div([\n",
    "\n",
    "    \n",
    "    dcc.RangeSlider(id=\"slider\", min=1, max=15, step=3),\n",
    "])\n",
    "\n",
    "\n",
    "\n",
    "\n",
    "# app.run()  \n",
    "app.run_server(use_reloader=False, mode='inline') # Turn off reloader if inside Jupyter"
   ]
  },
  {
   "attachments": {},
   "cell_type": "markdown",
   "metadata": {},
   "source": [
    "# Q4.2: add to the previous dash: Label, set default value on rangeslider as 7-10"
   ]
  },
  {
   "cell_type": "code",
   "execution_count": null,
   "metadata": {},
   "outputs": [],
   "source": [
    "from dash import Dash, dcc, html, Input, Output\n",
    "import plotly.graph_objects as go\n",
    "import numpy as np\n",
    "from jupyter_dash import JupyterDash\n",
    "\n",
    "\n",
    "app = JupyterDash(__name__) \n",
    "# app = Dash(__name__)\n",
    "\n",
    "\n",
    "app.layout = html.Div([\n",
    "\n",
    "    html.H1(\"majed Range slide for how awesome he is \"),\n",
    "    dcc.RangeSlider(id=\"slider\", min=1, max=15,value=[7,10], step=3),\n",
    "])\n",
    "\n",
    "\n",
    "\n",
    "\n",
    "# app.run()  \n",
    "app.run_server(use_reloader=False, mode='inline') # Turn off reloader if inside Jupyter"
   ]
  },
  {
   "attachments": {},
   "cell_type": "markdown",
   "metadata": {},
   "source": [
    "# Q5: Make 3 different Dcc types (Dropdown - Checkbox...) in one dash"
   ]
  },
  {
   "cell_type": "code",
   "execution_count": null,
   "metadata": {},
   "outputs": [],
   "source": [
    "from dash import Dash, dcc, html, Input, Output\n",
    "import plotly.graph_objects as go\n",
    "import numpy as np\n",
    "from jupyter_dash import JupyterDash\n",
    "\n",
    "\n",
    "app = JupyterDash(__name__) \n",
    "# app = Dash(__name__)\n",
    "\n",
    "\n",
    "app.layout = html.Div([\n",
    "\n",
    "    html.H1(\"majed Range slide for how awesome he is \"),\n",
    "    dcc.RangeSlider(id=\"slider\", min=1, max=15,value=[7,10], step=3),\n",
    "\n",
    "    html.H1('Drop down box'),\n",
    "    dcc.Dropdown(\n",
    "        id=\"dropdown\",\n",
    "        options=['pizza', 'burger', 'fresh fries'],\n",
    "        value='Gold',\n",
    "        clearable=False,\n",
    "    ),\n",
    "    html.H1('check list box'),\n",
    "    dcc.Checklist(\n",
    "        ['Riyadh_mall', 'panorama mall ', 'San Francisco mall'],\n",
    "        ['Riyadh_mall', 'panorama mall'],\n",
    "        inline=True\n",
    "    )\n",
    "\n",
    "])\n",
    "\n",
    "\n",
    "\n",
    "\n",
    "# app.run()  \n",
    "app.run_server(use_reloader=False, mode='inline') # Turn off reloader if inside Jupyter"
   ]
  },
  {
   "attachments": {},
   "cell_type": "markdown",
   "metadata": {},
   "source": [
    "# Q6: Make Plotly chart, then add it to a plotly_dash"
   ]
  },
  {
   "cell_type": "code",
   "execution_count": null,
   "metadata": {},
   "outputs": [],
   "source": [
    "import plotly.express as px\n",
    "df = px.data.iris()\n",
    "px.scatter(df, x='sepal_width', y='sepal_length')"
   ]
  },
  {
   "cell_type": "code",
   "execution_count": null,
   "metadata": {},
   "outputs": [],
   "source": [
    "from jupyter_dash import JupyterDash\n",
    "from dash import dcc, html\n",
    "\n",
    "app = JupyterDash(__name__)\n",
    "\n",
    "fig = px.scatter(df, x='sepal_width', y='sepal_length')\n",
    "\n",
    "app.layout = html.Div([\n",
    "    dcc.Graph(figure=fig)\n",
    "])\n",
    "\n",
    "if __name__ == '__main__':\n",
    "    app.run_server()"
   ]
  },
  {
   "attachments": {},
   "cell_type": "markdown",
   "metadata": {},
   "source": [
    "# Q7: From our data make plotly-dash with suitble chart, and Dropdown.\n",
    "\n",
    "- Dropdown should contain at least 3 options, each one represents different column.\n",
    "- Add label to dropdown.\n",
    "- The chart data should change depending on the selected dropdown option."
   ]
  },
  {
   "cell_type": "code",
   "execution_count": null,
   "metadata": {},
   "outputs": [],
   "source": [
    "import pandas as pd\n",
    "df = pd.read_csv(\"titanic passenger list.csv\")\n",
    "df.head()"
   ]
  },
  {
   "cell_type": "code",
   "execution_count": null,
   "metadata": {},
   "outputs": [],
   "source": [
    "\n",
    "from jupyter_dash import JupyterDash\n",
    "from dash import dcc, html, Input, Output\n",
    "import plotly.express as px\n",
    "\n",
    "app = JupyterDash(__name__)\n",
    "\n",
    "df = pd.read_csv(\"titanic passenger list.csv\")\n",
    "\n",
    "\n",
    "app.layout = html.Div([\n",
    "    html.Label('Select Column'),\n",
    "    dcc.Dropdown(\n",
    "        id='column-dropdown',\n",
    "        options=['age','fare','survived','sex'],\n",
    "        value='fare'\n",
    "    ),\n",
    "    dcc.Graph(id='chart')\n",
    "])\n",
    "\n",
    "@app.callback(\n",
    "        Output('chart', 'figure'),\n",
    "        Input('column-dropdown','value'))\n",
    "\n",
    "def update_chart(column):\n",
    "    fig = px.histogram(df, x=column)\n",
    "    return fig\n",
    "\n",
    "if __name__ == '__main__':\n",
    "    app.run_server(debug=True)\n"
   ]
  },
  {
   "cell_type": "code",
   "execution_count": null,
   "metadata": {},
   "outputs": [],
   "source": []
  },
  {
   "attachments": {},
   "cell_type": "markdown",
   "metadata": {},
   "source": [
    "# Q8: add 2 more charts to the prevoius Ploty-Dash"
   ]
  },
  {
   "cell_type": "code",
   "execution_count": null,
   "metadata": {},
   "outputs": [],
   "source": [
    "\n",
    "from jupyter_dash import JupyterDash\n",
    "from dash import dcc, html, Input, Output\n",
    "import plotly.express as px\n",
    "\n",
    "app = JupyterDash(__name__)\n",
    "\n",
    "df = pd.read_csv(\"titanic passenger list.csv\")\n",
    "\n",
    "\n",
    "app.layout = html.Div([\n",
    "    html.Label('Select Column'),\n",
    "    dcc.Dropdown(\n",
    "        id='column-dropdown',\n",
    "        options=['age','fare','survived','sex'],\n",
    "        value='age'\n",
    "    ),\n",
    "    dcc.Graph(id='chart'),\n",
    "    dcc.Graph(id='chart2'),\n",
    "    dcc.Graph(id='chart3')\n",
    "\n",
    "])\n",
    "\n",
    "@app.callback(\n",
    "        Output('chart', 'figure'),\n",
    "        Input('column-dropdown','value'))\n",
    "\n",
    "def update_chart(column):\n",
    "    fig = px.histogram(df, x=column)\n",
    "    return fig\n",
    "@app.callback(Output('chart2', 'figure'),\n",
    "              [Input('column-dropdown', 'value')])\n",
    "def update_chart2(column):\n",
    "    fig = px.bar(df, x='sex', y=column, color='sibsp')\n",
    "    return fig\n",
    "\n",
    "@app.callback(Output('chart3', 'figure'),\n",
    "              [Input('column-dropdown', 'value')])\n",
    "def update_chart3(column):\n",
    "    fig = px.box(df, y=column,color='survived')\n",
    "    return fig\n",
    "\n",
    "if __name__ == '__main__':\n",
    "    app.run_server(debug=True)\n"
   ]
  },
  {
   "attachments": {},
   "cell_type": "markdown",
   "metadata": {},
   "source": [
    "# Q9: Search for \"Plotly Gallery\" and fetch for a graph and use it with our data.\n",
    "\n",
    "- Note: You need to put the resourse addres of fetched your grapth."
   ]
  },
  {
   "attachments": {},
   "cell_type": "markdown",
   "metadata": {},
   "source": [
    "# https://plotly.com/python/plotly-express/"
   ]
  },
  {
   "cell_type": "code",
   "execution_count": null,
   "metadata": {},
   "outputs": [],
   "source": [
    "!pip install dash_bio\n"
   ]
  },
  {
   "cell_type": "code",
   "execution_count": null,
   "metadata": {},
   "outputs": [],
   "source": [
    "from dash import Dash, dcc, html, Input, Output\n",
    "import plotly.express as px\n",
    "\n",
    "from jupyter_dash import JupyterDash\n",
    "app = JupyterDash(__name__)\n",
    "\n",
    "app.layout = html.Div([\n",
    "    html.H4('Analysis of Iris data using scatter matrix'),\n",
    "    dcc.Dropdown(\n",
    "        id=\"dropdown\",\n",
    "        options=['sex', 'survived','fare'],\n",
    "        value=['sex', 'survived','fare'],\n",
    "        multi=True\n",
    "    ),\n",
    "    dcc.Graph(id=\"graph\"),\n",
    "])\n",
    "\n",
    "\n",
    "@app.callback(\n",
    "    Output(\"graph\", \"figure\"), \n",
    "    Input(\"dropdown\", \"value\"))\n",
    "def update_bar_chart(dims):\n",
    "    df = pd.read_csv(\"titanic passenger list.csv\")\n",
    "    fig = px.scatter_matrix(\n",
    "        df, dimensions=dims, color=\"sex\")\n",
    "    return fig\n",
    "\n",
    "\n",
    "app.run_server(debug=True)\n",
    "\n"
   ]
  },
  {
   "attachments": {},
   "cell_type": "markdown",
   "metadata": {},
   "source": [
    "# Challenge 1.1: Create Plotly dash with two charts depends on different columns of the data\n",
    "- First Chart : Pie\n",
    "- Secound Chart: is by your Choice ( Not Pie )"
   ]
  },
  {
   "cell_type": "code",
   "execution_count": null,
   "metadata": {},
   "outputs": [],
   "source": [
    "import pandas as pd\n",
    "from jupyter_dash import JupyterDash\n",
    "from dash import dcc, html, Input, Output\n",
    "import plotly.graph_objects as go\n",
    "\n",
    "app = JupyterDash(__name__)\n",
    "\n",
    "df = pd.read_csv(\"titanic passenger list.csv\")\n",
    "\n",
    "dropdown_options = ['survived','age','fare','sex']\n",
    "value =['survived','age','fare','sex']\n",
    "app.layout = html.Div([\n",
    "    html.Label('Select Column for Pie Chart'),\n",
    "    dcc.Dropdown(\n",
    "        id='pie-dropdown',\n",
    "        options=dropdown_options,\n",
    "        value=value\n",
    "    ),\n",
    "    html.Label('Select Column for Bar Chart'),\n",
    "    dcc.Dropdown(\n",
    "        id='bar-dropdown',\n",
    "        options=dropdown_options,\n",
    "        value=value\n",
    "    ),\n",
    "    dcc.Graph(id='pie-chart'),\n",
    "    dcc.Graph(id='bar-chart')\n",
    "])\n",
    "\n",
    "@app.callback(Output('pie-chart', 'figure'),\n",
    "              [Input('pie-dropdown', 'value')])\n",
    "def update_pie_chart(column):\n",
    "    fig = go.Figure(data=[go.Pie(labels=df[column].unique(), values=df.groupby(column).size())])\n",
    "    return fig\n",
    "\n",
    "@app.callback(Output('bar-chart', 'figure'),\n",
    "              [Input('bar-dropdown', 'value')])\n",
    "def update_bar_chart(column):\n",
    "    fig = px.bar(df, x=column, y='fare', color='survived')\n",
    "    return fig\n",
    "\n",
    "if __name__ == '__main__':\n",
    "    app.run_server(debug=True)\n"
   ]
  },
  {
   "attachments": {},
   "cell_type": "markdown",
   "metadata": {},
   "source": [
    "# Challenge 1.2: Make Hovering over a slice of the pie changes the data for the second chart depending on what the slice is."
   ]
  },
  {
   "cell_type": "code",
   "execution_count": null,
   "metadata": {},
   "outputs": [],
   "source": []
  }
 ],
 "metadata": {
  "kernelspec": {
   "display_name": "base",
   "language": "python",
   "name": "python3"
  },
  "language_info": {
   "codemirror_mode": {
    "name": "ipython",
    "version": 3
   },
   "file_extension": ".py",
   "mimetype": "text/x-python",
   "name": "python",
   "nbconvert_exporter": "python",
   "pygments_lexer": "ipython3",
   "version": "3.9.15"
  },
  "orig_nbformat": 4,
  "vscode": {
   "interpreter": {
    "hash": "bdf603378775d7f7fdfc3693152b0c93d0fa2796c4929420373ca679d9644cd1"
   }
  }
 },
 "nbformat": 4,
 "nbformat_minor": 2
}
